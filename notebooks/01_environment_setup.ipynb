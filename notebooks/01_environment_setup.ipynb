{
 "cells": [
  {
   "cell_type": "markdown",
   "metadata": {},
   "source": [
    "# Environment Setup and Validation\n",
    "## Overview\n"
   ]
  },
  {
   "cell_type": "markdown",
   "metadata": {},
   "source": [
    "## Import Libraries"
   ]
  },
  {
   "cell_type": "code",
   "execution_count": null,
   "metadata": {},
   "outputs": [],
   "source": [
    "# Import required libraries\n",
    "import os\n",
    "import sys\n",
    "import platform\n",
    "import torch\n",
    "import transformers\n",
    "from pathlib import Path\n",
    "import yaml\n",
    "import logging\n",
    "import pandas as pd\n",
    "import matplotlib.pyplot as plt\n",
    "from datetime import datetime"
   ]
  },
  {
   "cell_type": "markdown",
   "metadata": {},
   "source": [
    "## Configure Logging"
   ]
  },
  {
   "cell_type": "code",
   "execution_count": null,
   "metadata": {},
   "outputs": [],
   "source": [
    "# Configure basic logging\n",
    "logging.basicConfig(\n",
    "    level=logging.INFO,\n",
    "    format='%(asctime)s - %(name)s - %(levelname)s - %(message)s'\n",
    ")\n",
    "logger = logging.getLogger('setup_notebook')"
   ]
  },
  {
   "cell_type": "markdown",
   "metadata": {},
   "source": [
    "## Verify System Setings"
   ]
  },
  {
   "cell_type": "code",
   "execution_count": null,
   "metadata": {},
   "outputs": [],
   "source": [
    "\n",
    "# Display basic system information\n",
    "print(f\"🔍 Environment Setup and Verification\")\n",
    "print(f\"🐍 Python version: {platform.python_version()}\")\n",
    "print(f\"📊 PyTorch version: {torch.__version__}\")\n",
    "print(f\"🤖 Transformers version: {transformers.__version__}\")\n",
    "print(f\"📅 Date: {datetime.now().strftime('%Y-%m-%d %H:%M:%S')}\")"
   ]
  },
  {
   "cell_type": "markdown",
   "metadata": {},
   "source": [
    "## Set Up Path Configurations"
   ]
  },
  {
   "cell_type": "code",
   "execution_count": null,
   "metadata": {},
   "outputs": [],
   "source": [
    "\n",
    "# Set up project paths\n",
    "# This cell finds the project root and initializes path configuration\n",
    "\n",
    "# First, try to find the project root directory\n",
    "notebook_path = Path().resolve()\n",
    "project_root = None\n",
    "\n",
    "# Look for project root markers (traversing upward from the notebook)\n",
    "for parent in [notebook_path] + list(notebook_path.parents):\n",
    "    if any((parent / marker).exists() for marker in ['.git', 'setup.py', 'requirements.txt']):\n",
    "        project_root = parent\n",
    "        break\n",
    "\n",
    "if project_root is None:\n",
    "    # If markers not found, assume we're in a subdirectory of the project\n",
    "    # and the parent directory is the project root\n",
    "    project_root = notebook_path.parent\n",
    "    print(\"⚠️ Could not definitively locate project root, using parent directory\")\n",
    "else:\n",
    "    print(f\"✅ Found project root: {project_root}\")\n",
    "\n",
    "# Add project root to Python path if not already there\n",
    "if str(project_root) not in sys.path:\n",
    "    sys.path.insert(0, str(project_root))\n",
    "    print(f\"📌 Added {project_root} to Python path\")\n",
    "\n",
    "# Set environment variable for project root\n",
    "os.environ['PROJECT_ROOT'] = str(project_root)\n",
    "print(f\"🔄 Set PROJECT_ROOT environment variable to {project_root}\")\n",
    "\n",
    "# Verify critical directories exist, create if needed\n",
    "critical_dirs = [\n",
    "    \"configs/environments\",\n",
    "    \"src/config\",\n",
    "    \"data/images\",\n",
    "    \"models/cache\",\n",
    "    \"results/raw\",\n",
    "    \"logs\"\n",
    "]\n",
    "\n",
    "for dir_path in critical_dirs:\n",
    "    full_path = project_root / dir_path\n",
    "    if not full_path.exists():\n",
    "        print(f\"📁 Creating directory: {dir_path}\")\n",
    "        full_path.mkdir(parents=True, exist_ok=True)\n",
    "    else:\n",
    "        print(f\"✅ Directory exists: {dir_path}\")\n",
    "# Check for GPU availability\n",
    "if torch.cuda.is_available():\n",
    "    device_name = torch.cuda.get_device_name(0)\n",
    "    memory = torch.cuda.get_device_properties(0).total_memory / 1e9\n",
    "    print(f\"🖥️ GPU: {device_name} ({memory:.2f} GB)\")\n",
    "else:\n",
    "    print(\"⚠️ No GPU detected - running in CPU mode\")"
   ]
  },
  {
   "cell_type": "markdown",
   "metadata": {},
   "source": [
    "## Initialize Environment"
   ]
  },
  {
   "cell_type": "code",
   "execution_count": null,
   "metadata": {},
   "outputs": [],
   "source": [
    "# Import and initialize environment configuration\n",
    "# This cell loads appropriate configuration for local or RunPod environment\n",
    "\n",
    "try:\n",
    "    # Import configuration modules\n",
    "    from src.config.environment import get_environment_config\n",
    "    from src.config.paths import get_path_config\n",
    "    \n",
    "    # Get environment configuration\n",
    "    env_config = get_environment_config()\n",
    "    print(f\"📌 Detected environment: {env_config.environment}\")\n",
    "    \n",
    "    # Get path configuration for this experiment\n",
    "    experiment_name = f\"setup_{datetime.now().strftime('%Y%m%d_%H%M%S')}\"\n",
    "    paths = get_path_config(experiment_name=experiment_name)\n",
    "    \n",
    "    # Display configurations\n",
    "    print(\"\\n🔍 Environment Configuration Summary:\")\n",
    "    env_config.print_summary()\n",
    "    \n",
    "    print(\"\\n📂 Path Configuration:\")\n",
    "    print(paths)\n",
    "    \n",
    "    # Verify paths are valid\n",
    "    if paths.verify(verbose=True):\n",
    "        print(\"✅ All critical paths verified\")\n",
    "    else:\n",
    "        print(\"⚠️ Some paths could not be verified\")\n",
    "    \n",
    "except ImportError as e:\n",
    "    print(f\"❌ Error importing configuration modules: {e}\")\n",
    "    print(\"📝 This suggests there might be an issue with your project structure or Python path\")\n",
    "    print(\"💡 Make sure the src/config directory exists and contains the necessary files\")\n",
    "    \n",
    "except Exception as e:\n",
    "    print(f\"❌ Error initializing configuration: {e}\")\n",
    "    print(\"💡 Check your YAML configuration files for syntax errors\")"
   ]
  },
  {
   "cell_type": "markdown",
   "metadata": {},
   "source": [
    "## Final Verification"
   ]
  },
  {
   "cell_type": "code",
   "execution_count": null,
   "metadata": {},
   "outputs": [],
   "source": [
    "\n",
    "# Final verification and setup confirmation\n",
    "# This cell confirms the environment is ready for experiments\n",
    "\n",
    "print(\"🔍 Performing final environment checks...\")\n",
    "\n",
    "# Check for critical data files\n",
    "gt_path = paths.ground_truth_path\n",
    "if os.path.exists(gt_path):\n",
    "    # Load and show basic info about ground truth data\n",
    "    try:\n",
    "        ground_truth_df = pd.read_csv(gt_path)\n",
    "        print(f\"✅ Ground truth data loaded: {len(ground_truth_df)} records\")\n",
    "        print(f\"   Columns: {', '.join(ground_truth_df.columns[:5])}{'...' if len(ground_truth_df.columns) > 5 else ''}\")\n",
    "    except Exception as e:\n",
    "        print(f\"⚠️ Ground truth file exists but couldn't be loaded: {e}\")\n",
    "else:\n",
    "    print(f\"⚠️ Ground truth file not found at: {gt_path}\")\n",
    "    print(\"   You'll need to add this before running experiments.\")\n",
    "\n",
    "# Check for images\n",
    "image_paths = list(paths.get_image_paths())\n",
    "if image_paths:\n",
    "    print(f\"✅ Found {len(image_paths)} invoice images\")\n",
    "else:\n",
    "    print(\"⚠️ No invoice images found in data directory\")\n",
    "    print(\"   You'll need to add images before running experiments.\")"
   ]
  }
 ],
 "metadata": {
  "language_info": {
   "name": "python"
  }
 },
 "nbformat": 4,
 "nbformat_minor": 2
}
